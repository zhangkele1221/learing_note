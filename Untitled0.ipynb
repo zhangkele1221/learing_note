{
  "nbformat": 4,
  "nbformat_minor": 0,
  "metadata": {
    "colab": {
      "provenance": [],
      "toc_visible": true,
      "authorship_tag": "ABX9TyOTKp/+OQV6eo325CKP3ct/",
      "include_colab_link": true
    },
    "kernelspec": {
      "name": "python3",
      "display_name": "Python 3"
    },
    "language_info": {
      "name": "python"
    },
    "accelerator": "GPU"
  },
  "cells": [
    {
      "cell_type": "markdown",
      "metadata": {
        "id": "view-in-github",
        "colab_type": "text"
      },
      "source": [
        "<a href=\"https://colab.research.google.com/github/zhangkele1221/learing_note/blob/main/Untitled0.ipynb\" target=\"_parent\"><img src=\"https://colab.research.google.com/assets/colab-badge.svg\" alt=\"Open In Colab\"/></a>"
      ]
    },
    {
      "cell_type": "markdown",
      "source": [
        "\n",
        "# python test sample"
      ],
      "metadata": {
        "id": "yRDURLErh1WR"
      }
    },
    {
      "cell_type": "code",
      "source": [
        "print(\"hello world ! welcome to colab \")"
      ],
      "metadata": {
        "id": "y4Bct-Ash6KT",
        "outputId": "cc07a637-3e9b-4ad0-9704-c73a10a84b34",
        "colab": {
          "base_uri": "https://localhost:8080/"
        }
      },
      "execution_count": 1,
      "outputs": [
        {
          "output_type": "stream",
          "name": "stdout",
          "text": [
            "hello world ! welcome to colab \n"
          ]
        }
      ]
    },
    {
      "cell_type": "code",
      "source": [
        "a = 10\n",
        "b = 100\n",
        "c = a+b\n",
        "print(\"result\",c)"
      ],
      "metadata": {
        "id": "qA_xkoEfieBr",
        "outputId": "b6614592-da3d-4463-a8a0-d7f8a5513ea9",
        "colab": {
          "base_uri": "https://localhost:8080/"
        }
      },
      "execution_count": 2,
      "outputs": [
        {
          "output_type": "stream",
          "name": "stdout",
          "text": [
            "result 110\n"
          ]
        }
      ]
    },
    {
      "cell_type": "markdown",
      "source": [
        "\n",
        "# c or c++ demo  runing"
      ],
      "metadata": {
        "id": "DDuF8PPekC6f"
      }
    },
    {
      "cell_type": "code",
      "source": [
        "%%writefile test.cc\n",
        "#include<iostream>\n",
        "\n",
        "int main(){\n",
        "  std::cout<<\"hello world\"<<std::endl;\n",
        "  return 1;\n",
        "}\n"
      ],
      "metadata": {
        "id": "n2uLHjGEkClQ",
        "outputId": "1f5480fe-b82c-4ea6-c5e9-22079cbb6f38",
        "colab": {
          "base_uri": "https://localhost:8080/"
        }
      },
      "execution_count": 3,
      "outputs": [
        {
          "output_type": "stream",
          "name": "stdout",
          "text": [
            "Writing test.cc\n"
          ]
        }
      ]
    },
    {
      "cell_type": "code",
      "source": [
        "!g++ -g -Wall -o test test.cc"
      ],
      "metadata": {
        "id": "stfyJ4fwknEw"
      },
      "execution_count": 4,
      "outputs": []
    },
    {
      "cell_type": "code",
      "source": [
        "!./test"
      ],
      "metadata": {
        "id": "b_uqHhkbkt2t",
        "outputId": "60851083-abc8-4070-fc4a-d633cc50bedb",
        "colab": {
          "base_uri": "https://localhost:8080/"
        }
      },
      "execution_count": 5,
      "outputs": [
        {
          "output_type": "stream",
          "name": "stdout",
          "text": [
            "hello world\n"
          ]
        }
      ]
    },
    {
      "cell_type": "code",
      "source": [
        "%%writefile hello.c\n",
        "#include<stdio.h>\n",
        "int main(){\n",
        "  printf(\"hello world\");\n",
        "  return 0;\n",
        "}"
      ],
      "metadata": {
        "id": "EdVtxip9k7JX",
        "outputId": "4945c00f-837c-4039-fb9e-e8cdb0b9f3b6",
        "colab": {
          "base_uri": "https://localhost:8080/"
        }
      },
      "execution_count": 6,
      "outputs": [
        {
          "output_type": "stream",
          "name": "stdout",
          "text": [
            "Writing hello.c\n"
          ]
        }
      ]
    },
    {
      "cell_type": "code",
      "source": [
        "!gcc  -g -Wall -o hello hello.c"
      ],
      "metadata": {
        "id": "9MZXezlwlNJk"
      },
      "execution_count": 7,
      "outputs": []
    },
    {
      "cell_type": "code",
      "source": [
        "!./hello"
      ],
      "metadata": {
        "id": "KXBe4m5TlS2t",
        "outputId": "43d15182-ac51-4d51-b91e-dd844d2a3dd2",
        "colab": {
          "base_uri": "https://localhost:8080/"
        }
      },
      "execution_count": null,
      "outputs": [
        {
          "output_type": "stream",
          "name": "stdout",
          "text": [
            "hello world"
          ]
        }
      ]
    },
    {
      "cell_type": "markdown",
      "source": [
        "\n",
        "\n",
        "# cuda leaing and runing\n"
      ],
      "metadata": {
        "id": "U0z0BPTAl5v2"
      }
    },
    {
      "cell_type": "markdown",
      "source": [
        "## 检查 nvcc 编译器"
      ],
      "metadata": {
        "id": "hMfqjY0Yo9hc"
      }
    },
    {
      "cell_type": "code",
      "source": [
        "!which nvcc"
      ],
      "metadata": {
        "colab": {
          "base_uri": "https://localhost:8080/"
        },
        "id": "HbOlTTZCpVmZ",
        "outputId": "da249326-2789-4d3c-e632-9856fa18ca72"
      },
      "execution_count": 13,
      "outputs": [
        {
          "output_type": "stream",
          "name": "stdout",
          "text": [
            "/usr/local/cuda/bin/nvcc\n"
          ]
        }
      ]
    },
    {
      "cell_type": "markdown",
      "source": [
        "## 查看nvcc 版本"
      ],
      "metadata": {
        "id": "Q6XCRrX6pFYf"
      }
    },
    {
      "cell_type": "code",
      "source": [
        "!nvcc --version"
      ],
      "metadata": {
        "colab": {
          "base_uri": "https://localhost:8080/"
        },
        "id": "qT2R0riPpc64",
        "outputId": "c6e4ae0f-60ea-40ad-9880-eecbb520343b"
      },
      "execution_count": 14,
      "outputs": [
        {
          "output_type": "stream",
          "name": "stdout",
          "text": [
            "nvcc: NVIDIA (R) Cuda compiler driver\n",
            "Copyright (c) 2005-2023 NVIDIA Corporation\n",
            "Built on Tue_Aug_15_22:02:13_PDT_2023\n",
            "Cuda compilation tools, release 12.2, V12.2.140\n",
            "Build cuda_12.2.r12.2/compiler.33191640_0\n"
          ]
        }
      ]
    },
    {
      "cell_type": "markdown",
      "source": [
        "## 检查环境是否与gpu链接上"
      ],
      "metadata": {
        "id": "lEy3GdzopgmG"
      }
    },
    {
      "cell_type": "code",
      "source": [
        "!nvidia-smi"
      ],
      "metadata": {
        "colab": {
          "base_uri": "https://localhost:8080/"
        },
        "id": "ITpxCHk8p6Pj",
        "outputId": "bf6d7e00-ea34-4e34-d2c6-dcee2df7a813"
      },
      "execution_count": 17,
      "outputs": [
        {
          "output_type": "stream",
          "name": "stdout",
          "text": [
            "Wed Sep  4 15:30:15 2024       \n",
            "+---------------------------------------------------------------------------------------+\n",
            "| NVIDIA-SMI 535.104.05             Driver Version: 535.104.05   CUDA Version: 12.2     |\n",
            "|-----------------------------------------+----------------------+----------------------+\n",
            "| GPU  Name                 Persistence-M | Bus-Id        Disp.A | Volatile Uncorr. ECC |\n",
            "| Fan  Temp   Perf          Pwr:Usage/Cap |         Memory-Usage | GPU-Util  Compute M. |\n",
            "|                                         |                      |               MIG M. |\n",
            "|=========================================+======================+======================|\n",
            "|   0  Tesla T4                       Off | 00000000:00:04.0 Off |                    0 |\n",
            "| N/A   53C    P8              12W /  70W |      0MiB / 15360MiB |      0%      Default |\n",
            "|                                         |                      |                  N/A |\n",
            "+-----------------------------------------+----------------------+----------------------+\n",
            "                                                                                         \n",
            "+---------------------------------------------------------------------------------------+\n",
            "| Processes:                                                                            |\n",
            "|  GPU   GI   CI        PID   Type   Process name                            GPU Memory |\n",
            "|        ID   ID                                                             Usage      |\n",
            "|=======================================================================================|\n",
            "|  No running processes found                                                           |\n",
            "+---------------------------------------------------------------------------------------+\n"
          ]
        }
      ]
    },
    {
      "cell_type": "markdown",
      "source": [
        "## 写cuda 代码"
      ],
      "metadata": {
        "id": "v2Xpi77Nqik_"
      }
    },
    {
      "cell_type": "code",
      "source": [
        "%%writefile  hello_cuda.cu\n",
        "#include <iostream>\n",
        "#include <cuda_runtime.h>\n",
        "\n",
        "int main()\n",
        "{\n",
        "    int gpu_devices_num;\n",
        "    cudaError_t err = cudaGetDeviceCount(&gpu_devices_num);\n",
        "\n",
        "    if (err != cudaSuccess)\n",
        "    {\n",
        "        std::cout << \"Error Message : \" << cudaGetErrorString(err) << std::endl;\n",
        "    }\n",
        "\n",
        "    std::cout << \"  GPU num : \" << gpu_devices_num << std::endl;\n",
        "\n",
        "    for (int i = 0; i < gpu_devices_num; ++i)\n",
        "    {\n",
        "        cudaDeviceProp prop;\n",
        "        cudaGetDeviceProperties(&prop, i);\n",
        "\n",
        "        std::cout << \"  Device Number: \" << i << std::endl;\n",
        "        std::cout << \"  Device name: \" << prop.name << std::endl;\n",
        "        std::cout << \"  Memory Clock Rate (KHz): \" << prop.memoryClockRate << std::endl;\n",
        "        std::cout << \"  Memory Bus Width (bits): \" << prop.memoryBusWidth << std::endl;\n",
        "        std::cout << \"  Peak Memory Bandwidth (GB/s): \" << 2.0 * prop.memoryClockRate * (prop.memoryBusWidth / 8) / 1.0e6 << std::endl;\n",
        "    }\n",
        "\n",
        "    return 0;\n",
        "}\n",
        "\n",
        "\n"
      ],
      "metadata": {
        "colab": {
          "base_uri": "https://localhost:8080/"
        },
        "id": "GGQN75xsqmZC",
        "outputId": "8acbd193-51e9-46f6-9940-f7de270ff6d0"
      },
      "execution_count": 33,
      "outputs": [
        {
          "output_type": "stream",
          "name": "stdout",
          "text": [
            "Overwriting hello_cuda.cu\n"
          ]
        }
      ]
    },
    {
      "cell_type": "markdown",
      "source": [
        "## 编译 cuda代码"
      ],
      "metadata": {
        "id": "WJeCvnSVrItu"
      }
    },
    {
      "cell_type": "code",
      "source": [
        "!nvcc   hello_cuda.cu -o hello_cuda"
      ],
      "metadata": {
        "id": "2fsSu1jerM_I"
      },
      "execution_count": 34,
      "outputs": []
    },
    {
      "cell_type": "markdown",
      "source": [
        "## 运行cuda 程序"
      ],
      "metadata": {
        "id": "2V5lcKCBriuI"
      }
    },
    {
      "cell_type": "code",
      "source": [
        "!./hello_cuda"
      ],
      "metadata": {
        "colab": {
          "base_uri": "https://localhost:8080/"
        },
        "id": "ubP4m3LZrmjo",
        "outputId": "c82c7844-e926-4107-c887-9ee993673787"
      },
      "execution_count": 35,
      "outputs": [
        {
          "output_type": "stream",
          "name": "stdout",
          "text": [
            "  GPU num : 1\n",
            "  Device Number: 0\n",
            "  Device name: Tesla T4\n",
            "  Memory Clock Rate (KHz): 5001000\n",
            "  Memory Bus Width (bits): 256\n",
            "  Peak Memory Bandwidth (GB/s): 320.064\n"
          ]
        }
      ]
    }
  ]
}