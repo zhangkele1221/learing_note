{
  "nbformat": 4,
  "nbformat_minor": 0,
  "metadata": {
    "colab": {
      "provenance": [],
      "toc_visible": true,
      "gpuType": "T4",
      "authorship_tag": "ABX9TyN7r5NDi64cLk01dcMSvR1b",
      "include_colab_link": true
    },
    "kernelspec": {
      "name": "python3",
      "display_name": "Python 3"
    },
    "language_info": {
      "name": "python"
    },
    "accelerator": "GPU"
  },
  "cells": [
    {
      "cell_type": "markdown",
      "metadata": {
        "id": "view-in-github",
        "colab_type": "text"
      },
      "source": [
        "<a href=\"https://colab.research.google.com/github/zhangkele1221/learing_note/blob/main/Untitled0.ipynb\" target=\"_parent\"><img src=\"https://colab.research.google.com/assets/colab-badge.svg\" alt=\"Open In Colab\"/></a>"
      ]
    },
    {
      "cell_type": "markdown",
      "source": [
        "\n",
        "# python test sample"
      ],
      "metadata": {
        "id": "yRDURLErh1WR"
      }
    },
    {
      "cell_type": "code",
      "source": [
        "print(\"hello world ! welcome to colab \")"
      ],
      "metadata": {
        "id": "y4Bct-Ash6KT",
        "outputId": "cc07a637-3e9b-4ad0-9704-c73a10a84b34",
        "colab": {
          "base_uri": "https://localhost:8080/"
        }
      },
      "execution_count": null,
      "outputs": [
        {
          "output_type": "stream",
          "name": "stdout",
          "text": [
            "hello world ! welcome to colab \n"
          ]
        }
      ]
    },
    {
      "cell_type": "code",
      "source": [
        "a = 10\n",
        "b = 100\n",
        "c = a+b\n",
        "print(\"result\",c)"
      ],
      "metadata": {
        "id": "qA_xkoEfieBr",
        "outputId": "b6614592-da3d-4463-a8a0-d7f8a5513ea9",
        "colab": {
          "base_uri": "https://localhost:8080/"
        }
      },
      "execution_count": null,
      "outputs": [
        {
          "output_type": "stream",
          "name": "stdout",
          "text": [
            "result 110\n"
          ]
        }
      ]
    },
    {
      "cell_type": "markdown",
      "source": [
        "\n",
        "# c or c++ demo  runing"
      ],
      "metadata": {
        "id": "DDuF8PPekC6f"
      }
    },
    {
      "cell_type": "code",
      "source": [
        "%%writefile test.cc\n",
        "#include<iostream>\n",
        "\n",
        "int main(){\n",
        "  std::cout<<\"hello world\"<<std::endl;\n",
        "  return 1;\n",
        "}\n"
      ],
      "metadata": {
        "id": "n2uLHjGEkClQ",
        "outputId": "1f5480fe-b82c-4ea6-c5e9-22079cbb6f38",
        "colab": {
          "base_uri": "https://localhost:8080/"
        }
      },
      "execution_count": null,
      "outputs": [
        {
          "output_type": "stream",
          "name": "stdout",
          "text": [
            "Writing test.cc\n"
          ]
        }
      ]
    },
    {
      "cell_type": "code",
      "source": [
        "!g++ -g -Wall -o test test.cc"
      ],
      "metadata": {
        "id": "stfyJ4fwknEw"
      },
      "execution_count": null,
      "outputs": []
    },
    {
      "cell_type": "code",
      "source": [
        "!./test"
      ],
      "metadata": {
        "id": "b_uqHhkbkt2t",
        "outputId": "60851083-abc8-4070-fc4a-d633cc50bedb",
        "colab": {
          "base_uri": "https://localhost:8080/"
        }
      },
      "execution_count": null,
      "outputs": [
        {
          "output_type": "stream",
          "name": "stdout",
          "text": [
            "hello world\n"
          ]
        }
      ]
    },
    {
      "cell_type": "code",
      "source": [
        "%%writefile hello.c\n",
        "#include<stdio.h>\n",
        "int main(){\n",
        "  printf(\"hello world\");\n",
        "  return 0;\n",
        "}"
      ],
      "metadata": {
        "id": "EdVtxip9k7JX",
        "outputId": "4945c00f-837c-4039-fb9e-e8cdb0b9f3b6",
        "colab": {
          "base_uri": "https://localhost:8080/"
        }
      },
      "execution_count": null,
      "outputs": [
        {
          "output_type": "stream",
          "name": "stdout",
          "text": [
            "Writing hello.c\n"
          ]
        }
      ]
    },
    {
      "cell_type": "code",
      "source": [
        "!gcc  -g -Wall -o hello hello.c"
      ],
      "metadata": {
        "id": "9MZXezlwlNJk"
      },
      "execution_count": null,
      "outputs": []
    },
    {
      "cell_type": "code",
      "source": [
        "!./hello"
      ],
      "metadata": {
        "id": "KXBe4m5TlS2t",
        "outputId": "43d15182-ac51-4d51-b91e-dd844d2a3dd2",
        "colab": {
          "base_uri": "https://localhost:8080/"
        }
      },
      "execution_count": null,
      "outputs": [
        {
          "output_type": "stream",
          "name": "stdout",
          "text": [
            "hello world"
          ]
        }
      ]
    },
    {
      "cell_type": "markdown",
      "source": [
        "\n",
        "\n",
        "# cuda leaing and runing\n"
      ],
      "metadata": {
        "id": "U0z0BPTAl5v2"
      }
    },
    {
      "cell_type": "markdown",
      "source": [
        "## 检查 nvcc 编译器"
      ],
      "metadata": {
        "id": "hMfqjY0Yo9hc"
      }
    },
    {
      "cell_type": "code",
      "source": [
        "!which nvcc"
      ],
      "metadata": {
        "colab": {
          "base_uri": "https://localhost:8080/"
        },
        "id": "HbOlTTZCpVmZ",
        "outputId": "da249326-2789-4d3c-e632-9856fa18ca72"
      },
      "execution_count": null,
      "outputs": [
        {
          "output_type": "stream",
          "name": "stdout",
          "text": [
            "/usr/local/cuda/bin/nvcc\n"
          ]
        }
      ]
    },
    {
      "cell_type": "markdown",
      "source": [
        "## 查看nvcc 版本"
      ],
      "metadata": {
        "id": "Q6XCRrX6pFYf"
      }
    },
    {
      "cell_type": "code",
      "source": [
        "!nvcc --version"
      ],
      "metadata": {
        "colab": {
          "base_uri": "https://localhost:8080/"
        },
        "id": "qT2R0riPpc64",
        "outputId": "c6e4ae0f-60ea-40ad-9880-eecbb520343b"
      },
      "execution_count": null,
      "outputs": [
        {
          "output_type": "stream",
          "name": "stdout",
          "text": [
            "nvcc: NVIDIA (R) Cuda compiler driver\n",
            "Copyright (c) 2005-2023 NVIDIA Corporation\n",
            "Built on Tue_Aug_15_22:02:13_PDT_2023\n",
            "Cuda compilation tools, release 12.2, V12.2.140\n",
            "Build cuda_12.2.r12.2/compiler.33191640_0\n"
          ]
        }
      ]
    },
    {
      "cell_type": "markdown",
      "source": [
        "## 检查环境是否与gpu链接上"
      ],
      "metadata": {
        "id": "lEy3GdzopgmG"
      }
    },
    {
      "cell_type": "code",
      "source": [
        "!nvidia-smi"
      ],
      "metadata": {
        "colab": {
          "base_uri": "https://localhost:8080/"
        },
        "id": "ITpxCHk8p6Pj",
        "outputId": "bf6d7e00-ea34-4e34-d2c6-dcee2df7a813"
      },
      "execution_count": null,
      "outputs": [
        {
          "output_type": "stream",
          "name": "stdout",
          "text": [
            "Wed Sep  4 15:30:15 2024       \n",
            "+---------------------------------------------------------------------------------------+\n",
            "| NVIDIA-SMI 535.104.05             Driver Version: 535.104.05   CUDA Version: 12.2     |\n",
            "|-----------------------------------------+----------------------+----------------------+\n",
            "| GPU  Name                 Persistence-M | Bus-Id        Disp.A | Volatile Uncorr. ECC |\n",
            "| Fan  Temp   Perf          Pwr:Usage/Cap |         Memory-Usage | GPU-Util  Compute M. |\n",
            "|                                         |                      |               MIG M. |\n",
            "|=========================================+======================+======================|\n",
            "|   0  Tesla T4                       Off | 00000000:00:04.0 Off |                    0 |\n",
            "| N/A   53C    P8              12W /  70W |      0MiB / 15360MiB |      0%      Default |\n",
            "|                                         |                      |                  N/A |\n",
            "+-----------------------------------------+----------------------+----------------------+\n",
            "                                                                                         \n",
            "+---------------------------------------------------------------------------------------+\n",
            "| Processes:                                                                            |\n",
            "|  GPU   GI   CI        PID   Type   Process name                            GPU Memory |\n",
            "|        ID   ID                                                             Usage      |\n",
            "|=======================================================================================|\n",
            "|  No running processes found                                                           |\n",
            "+---------------------------------------------------------------------------------------+\n"
          ]
        }
      ]
    },
    {
      "cell_type": "markdown",
      "source": [
        "## 写cuda 代码"
      ],
      "metadata": {
        "id": "v2Xpi77Nqik_"
      }
    },
    {
      "cell_type": "code",
      "source": [
        "%%writefile  hello_cuda.cu\n",
        "#include <iostream>\n",
        "#include <cuda_runtime.h>\n",
        "\n",
        "int main()\n",
        "{\n",
        "    int gpu_devices_num;\n",
        "    cudaError_t err = cudaGetDeviceCount(&gpu_devices_num);\n",
        "\n",
        "    if (err != cudaSuccess)\n",
        "    {\n",
        "        std::cout << \"Error Message : \" << cudaGetErrorString(err) << std::endl;\n",
        "    }\n",
        "\n",
        "    std::cout << \"  GPU num : \" << gpu_devices_num << std::endl;\n",
        "\n",
        "    for (int i = 0; i < gpu_devices_num; ++i)\n",
        "    {\n",
        "        cudaDeviceProp prop;\n",
        "        cudaGetDeviceProperties(&prop, i);\n",
        "\n",
        "        std::cout << \"  Device Number: \" << i << std::endl;\n",
        "        std::cout << \"  Device name: \" << prop.name << std::endl;\n",
        "        std::cout << \"  Memory Clock Rate (KHz): \" << prop.memoryClockRate << std::endl;\n",
        "        std::cout << \"  Memory Bus Width (bits): \" << prop.memoryBusWidth << std::endl;\n",
        "        std::cout << \"  Peak Memory Bandwidth (GB/s): \" << 2.0 * prop.memoryClockRate * (prop.memoryBusWidth / 8) / 1.0e6 << std::endl;\n",
        "    }\n",
        "\n",
        "    return 0;\n",
        "}\n",
        "\n",
        "\n"
      ],
      "metadata": {
        "colab": {
          "base_uri": "https://localhost:8080/"
        },
        "id": "GGQN75xsqmZC",
        "outputId": "8acbd193-51e9-46f6-9940-f7de270ff6d0"
      },
      "execution_count": null,
      "outputs": [
        {
          "output_type": "stream",
          "name": "stdout",
          "text": [
            "Overwriting hello_cuda.cu\n"
          ]
        }
      ]
    },
    {
      "cell_type": "markdown",
      "source": [
        "## 编译 cuda代码"
      ],
      "metadata": {
        "id": "WJeCvnSVrItu"
      }
    },
    {
      "cell_type": "code",
      "source": [
        "!nvcc   hello_cuda.cu -o hello_cuda"
      ],
      "metadata": {
        "id": "2fsSu1jerM_I",
        "colab": {
          "base_uri": "https://localhost:8080/"
        },
        "outputId": "9f3a4562-69f0-4d62-8b0c-245c57831cf9"
      },
      "execution_count": 4,
      "outputs": [
        {
          "output_type": "stream",
          "name": "stdout",
          "text": [
            "\u001b[01m\u001b[Kcc1plus:\u001b[m\u001b[K \u001b[01;31m\u001b[Kfatal error: \u001b[m\u001b[Khello_cuda.cu: No such file or directory\n",
            "compilation terminated.\n"
          ]
        }
      ]
    },
    {
      "cell_type": "markdown",
      "source": [
        "## 运行cuda 程序"
      ],
      "metadata": {
        "id": "2V5lcKCBriuI"
      }
    },
    {
      "cell_type": "code",
      "source": [
        "!./hello_cuda"
      ],
      "metadata": {
        "colab": {
          "base_uri": "https://localhost:8080/"
        },
        "id": "ubP4m3LZrmjo",
        "outputId": "c82c7844-e926-4107-c887-9ee993673787"
      },
      "execution_count": null,
      "outputs": [
        {
          "output_type": "stream",
          "name": "stdout",
          "text": [
            "  GPU num : 1\n",
            "  Device Number: 0\n",
            "  Device name: Tesla T4\n",
            "  Memory Clock Rate (KHz): 5001000\n",
            "  Memory Bus Width (bits): 256\n",
            "  Peak Memory Bandwidth (GB/s): 320.064\n"
          ]
        }
      ]
    },
    {
      "cell_type": "code",
      "source": [],
      "metadata": {
        "colab": {
          "base_uri": "https://localhost:8080/"
        },
        "id": "zoYdkN2gxPWB",
        "outputId": "b63dbeab-db4d-479c-a7fb-0e3290196985"
      },
      "execution_count": null,
      "outputs": [
        {
          "output_type": "stream",
          "name": "stdout",
          "text": [
            "cmake version 3.30.2\n",
            "\n",
            "CMake suite maintained and supported by Kitware (kitware.com/cmake).\n"
          ]
        }
      ]
    },
    {
      "cell_type": "markdown",
      "source": [
        "# other"
      ],
      "metadata": {
        "id": "CpN7_jJYxn2S"
      }
    },
    {
      "cell_type": "code",
      "source": [
        "%%writefile test.sh"
      ],
      "metadata": {
        "colab": {
          "base_uri": "https://localhost:8080/"
        },
        "id": "m2qNIFnixsC0",
        "outputId": "3e9c1b69-e2ac-42a2-dd5c-534a7b19b614"
      },
      "execution_count": null,
      "outputs": [
        {
          "output_type": "stream",
          "name": "stdout",
          "text": [
            "Writing test.sh\n"
          ]
        }
      ]
    },
    {
      "cell_type": "code",
      "source": [
        "!echo \"\" > test.sh"
      ],
      "metadata": {
        "id": "tDKuhjpc3bH3"
      },
      "execution_count": null,
      "outputs": []
    },
    {
      "cell_type": "markdown",
      "source": [],
      "metadata": {
        "id": "Nv9geX_T6Jwq"
      }
    },
    {
      "cell_type": "code",
      "source": [
        "!bash /content/test.sh"
      ],
      "metadata": {
        "id": "9IWxck-33_p9"
      },
      "execution_count": null,
      "outputs": []
    },
    {
      "cell_type": "code",
      "source": [
        "!cat /content/test.sh"
      ],
      "metadata": {
        "colab": {
          "base_uri": "https://localhost:8080/"
        },
        "id": "RA5JN02p4GqN",
        "outputId": "c225e675-e27c-44c5-ec8e-bad8ac4782a4"
      },
      "execution_count": null,
      "outputs": [
        {
          "output_type": "stream",
          "name": "stdout",
          "text": [
            " "
          ]
        }
      ]
    },
    {
      "cell_type": "markdown",
      "source": [
        " https://gitee.com/llteacher/cuda-learn   还不错的基cuda基础代码库\n",
        " https://gitee.com/cui-rongpei/cuda-learn 这个也OK"
      ],
      "metadata": {
        "id": "QYbYpS0WmK7e"
      }
    },
    {
      "cell_type": "code",
      "source": [
        "%%writefile  cuda1.cu\n",
        "#include <cstdio>\n",
        "using namespace std;\n",
        "\n",
        "//这是一个CUDA核函数 通过__global__关键字定义 这意味着这个函数将在GPU上执行 并且由主机代码调用。\n",
        "__global__ void hell_from__gpu()\n",
        "{\n",
        "    // 核函数不支持 c++ 的 iostream。\n",
        "    // 输出流的缓存顺序。\n",
        "    // printf(\"gpu: hello world! \");\n",
        "\n",
        "    /*\n",
        "    bid = blockIdx.z * (gridDim.x * gridDim.y) + blockIdx.y * (gridDim.x) + blockIdx.x\n",
        "    */\n",
        "\n",
        "    const int bx = blockIdx.x; //获取当前块的X轴索引\n",
        "    const int by = blockIdx.y; //获取当前块的Y轴索引\n",
        "    const int bz = blockIdx.z; //获取当前块的Z轴索引\n",
        "\n",
        "    const int tx = threadIdx.x; //获取当前线程的X轴索引\n",
        "    const int ty = threadIdx.y; //获取当前线程的Y轴索引\n",
        "    const int tz = threadIdx.z; //获取当前线程的Z轴索引\n",
        "\n",
        "    // 打印块和线程的3D索引\n",
        "    printf(\"gpu: hello world! block(%d, %d, %d) -- thread(%d, %d, %d)\\n\",\n",
        "            bx, by, bz, tx, ty, tz);\n",
        "\n",
        "    //gpu: hello world! block(0, 0, 0) -- thread(0, 0, 0)\n",
        "    //gpu: hello world! block(0, 0, 0) -- thread(1, 0, 0)\n",
        "    //gpu: hello world! block(0, 0, 0) -- thread(0, 1, 0)\n",
        "    //gpu: hello world! block(0, 0, 0) -- thread(1, 1, 0)\n",
        "\n",
        "    //gpu: hello world! block(0, 0, 0) -- thread(0, 2, 0)\n",
        "    //gpu: hello world! block(0, 0, 0) -- thread(1, 2, 0)\n",
        "    //gpu: hello world! block(0, 0, 0) -- thread(0, 3, 0)\n",
        "    //gpu: hello world! block(0, 0, 0) -- thread(1, 3, 0)\n",
        "}\n",
        "\n",
        "int main()\n",
        "{\n",
        "    printf(\"nvcc: hello world!\\n\");\n",
        "    // 定义2x4大小的线程块尺寸\n",
        "    const dim3 block_size(2, 4); //定义线程块的大小。这里定义了一个2x4的块, 表示每个块包含8个线程。\n",
        "\n",
        "    // Launch the kernel\n",
        "    //表示启动配置,第一个参数1表示网格(grid)中仅有一个块(block),第二个参数block_size表示每个块中有2x4个线程。\n",
        "    //这个网格只有一个线程块 所以看后面输出的 z 坐标都是0 理解其中的意\n",
        "    hell_from__gpu<<<1, block_size>>>();\n",
        "\n",
        "    cudaDeviceSynchronize(); // 同步主机和设备，否则无法输出字符串。\n",
        "\n",
        "    return 0;\n",
        "}\n"
      ],
      "metadata": {
        "colab": {
          "base_uri": "https://localhost:8080/"
        },
        "collapsed": true,
        "id": "z8B0qR_7Kejr",
        "outputId": "08b4f5fe-d538-4ddf-ed86-0e131823ef05"
      },
      "execution_count": 4,
      "outputs": [
        {
          "output_type": "stream",
          "name": "stdout",
          "text": [
            "Overwriting cuda1.cu\n"
          ]
        }
      ]
    },
    {
      "cell_type": "code",
      "source": [
        "!nvcc   cuda1.cu -o cuda1"
      ],
      "metadata": {
        "id": "3ZSPvpDFK1PU"
      },
      "execution_count": 5,
      "outputs": []
    },
    {
      "cell_type": "code",
      "source": [
        "! ./cuda1"
      ],
      "metadata": {
        "colab": {
          "base_uri": "https://localhost:8080/"
        },
        "id": "r6LUzQUgK7Rq",
        "outputId": "b8d1800d-9bba-4436-ffee-7bdba6a91a0f"
      },
      "execution_count": 6,
      "outputs": [
        {
          "output_type": "stream",
          "name": "stdout",
          "text": [
            "nvcc: hello world!\n",
            "gpu: hello world! block(0, 0, 0) -- thread(0, 0, 0)\n",
            "gpu: hello world! block(0, 0, 0) -- thread(1, 0, 0)\n",
            "gpu: hello world! block(0, 0, 0) -- thread(0, 1, 0)\n",
            "gpu: hello world! block(0, 0, 0) -- thread(1, 1, 0)\n",
            "gpu: hello world! block(0, 0, 0) -- thread(0, 2, 0)\n",
            "gpu: hello world! block(0, 0, 0) -- thread(1, 2, 0)\n",
            "gpu: hello world! block(0, 0, 0) -- thread(0, 3, 0)\n",
            "gpu: hello world! block(0, 0, 0) -- thread(1, 3, 0)\n"
          ]
        }
      ]
    },
    {
      "cell_type": "code",
      "source": [
        "\n",
        "%%writefile  cuda2.cu\n",
        "#include <cstdio>\n",
        "#include <iostream>\n",
        "using namespace std;\n",
        "\n",
        "// 两个向量加法kernel，grid和block均为一维\n",
        "__global__ void add(float* x, float * y, float* z, int n)\n",
        "{\n",
        "    // 获取全局索引\n",
        "    int index = threadIdx.x + blockIdx.x * blockDim.x;\n",
        "    // 步长\n",
        "    int stride = blockDim.x * gridDim.x;\n",
        "    for (int i = index; i < n; i += stride)\n",
        "    {\n",
        "        z[i] = x[i] + y[i];\n",
        "    }\n",
        "}\n",
        "\n",
        "int main()\n",
        "{\n",
        "    int N = 1 << 20;\n",
        "    int nBytes = N * sizeof(float);\n",
        "    // 申请host内存\n",
        "    float *x, *y, *z;\n",
        "    x = (float*)malloc(nBytes);\n",
        "    y = (float*)malloc(nBytes);\n",
        "    z = (float*)malloc(nBytes);\n",
        "\n",
        "    // 初始化数据\n",
        "    for (int i = 0; i < N; ++i)\n",
        "    {\n",
        "        x[i] = 10.0;\n",
        "        y[i] = 20.0;\n",
        "    }\n",
        "\n",
        "    // 申请device内存\n",
        "    float *d_x, *d_y, *d_z;\n",
        "    cudaMalloc((void**)&d_x, nBytes);\n",
        "    cudaMalloc((void**)&d_y, nBytes);\n",
        "    cudaMalloc((void**)&d_z, nBytes);\n",
        "\n",
        "    // 将host数据拷贝到device\n",
        "    cudaMemcpy((void*)d_x, (void*)x, nBytes, cudaMemcpyHostToDevice);\n",
        "    cudaMemcpy((void*)d_y, (void*)y, nBytes, cudaMemcpyHostToDevice);\n",
        "    // 定义kernel的执行配置\n",
        "    dim3 blockSize(256);\n",
        "    dim3 gridSize((N + blockSize.x - 1) / blockSize.x);\n",
        "    // 执行kernel\n",
        "    add << < gridSize, blockSize >> >(d_x, d_y, d_z, N);\n",
        "\n",
        "    // 将device得到的结果拷贝到host\n",
        "    cudaMemcpy((void*)z, (void*)d_z, nBytes, cudaMemcpyDeviceToHost);\n",
        "\n",
        "    // 检查执行结果\n",
        "    float maxError = 0.0;\n",
        "    for (int i = 0; i < N; i++)\n",
        "        maxError = fmax(maxError, fabs(z[i] - 30.0));\n",
        "    std::cout << \"最大误差: \" << maxError << std::endl;\n",
        "\n",
        "    // 释放device内存\n",
        "    cudaFree(d_x);\n",
        "    cudaFree(d_y);\n",
        "    cudaFree(d_z);\n",
        "    // 释放host内存\n",
        "    free(x);\n",
        "    free(y);\n",
        "    free(z);\n",
        "\n",
        "    return 0;\n",
        "}"
      ],
      "metadata": {
        "colab": {
          "base_uri": "https://localhost:8080/"
        },
        "id": "FNq8Q1fE8yfW",
        "outputId": "36d8b8eb-e49b-4882-9fb6-3313887d5452"
      },
      "execution_count": 5,
      "outputs": [
        {
          "output_type": "stream",
          "name": "stdout",
          "text": [
            "Overwriting cuda2.cu\n"
          ]
        }
      ]
    },
    {
      "cell_type": "code",
      "source": [
        "!nvcc   cuda2.cu -o cuda2"
      ],
      "metadata": {
        "id": "FbaosyIy83-c"
      },
      "execution_count": 6,
      "outputs": []
    },
    {
      "cell_type": "code",
      "source": [
        "! ./cuda2"
      ],
      "metadata": {
        "colab": {
          "base_uri": "https://localhost:8080/"
        },
        "id": "hMFX5R8M9Nbw",
        "outputId": "934ec21f-f5a7-450d-c8f2-6e7a96fe3aa2"
      },
      "execution_count": 8,
      "outputs": [
        {
          "output_type": "stream",
          "name": "stdout",
          "text": [
            "最大误差: 0\n"
          ]
        }
      ]
    },
    {
      "cell_type": "code",
      "source": [
        "\n",
        "%%writefile  hello4.cu\n",
        "#include <cstdio>\n",
        "using namespace std;\n",
        "\n",
        "\n",
        "__global__ void hell_from__gpu()\n",
        "{\n",
        "    // 核函数不支持 c++ 的 iostream。\n",
        "\n",
        "    // 输出流的缓存顺序。\n",
        "    // printf(\"gpu: hello world! \");\n",
        "\n",
        "    const int bx = blockIdx.x;\n",
        "    const int tx = threadIdx.x;\n",
        "\n",
        "    printf(\"gpu: hello world! block(%d) -- thread(%d)\\n\", bx, tx);\n",
        "}\n",
        "// 输出如下内容  当前线程  所属的 一个网格中线程块指标     blockIdx.x  取值范围是  [0-gridDim.x-1)  gridDim.x值等于 gridSize的数值\n",
        "//             当前线程  所属的 一个线程块中线程指标     threadIdx.x 取值范围是  [0-blockDim.x-1) blockDim.x值等于 blockSize的数值\n",
        "/*\n",
        "nvcc: hello world!\n",
        "//第一个线程块的 4个线程\n",
        "gpu: hello world! block(0) -- thread(0)\n",
        "gpu: hello world! block(0) -- thread(1)\n",
        "gpu: hello world! block(0) -- thread(2)\n",
        "gpu: hello world! block(0) -- thread(3)\n",
        "//第二个线程块的 4个线程\n",
        "gpu: hello world! block(1) -- thread(0)\n",
        "gpu: hello world! block(1) -- thread(1)\n",
        "gpu: hello world! block(1) -- thread(2)\n",
        "gpu: hello world! block(1) -- thread(3)\n",
        "*/\n",
        "\n",
        "\n",
        "int main()\n",
        "{\n",
        "    printf(\"nvcc: hello world!\\n\");\n",
        "\n",
        "    hell_from__gpu<<<2, 4>>>();//gridSize   blockSize\n",
        "    cudaDeviceSynchronize(); // 同步主机和设备，否则无法输出字符串。\n",
        "\n",
        "    return 0;\n",
        "}\n"
      ],
      "metadata": {
        "colab": {
          "base_uri": "https://localhost:8080/"
        },
        "id": "x1887dfbp-iT",
        "outputId": "26dc5179-6338-4b47-96ce-b231457df6db"
      },
      "execution_count": 5,
      "outputs": [
        {
          "output_type": "stream",
          "name": "stdout",
          "text": [
            "Overwriting hello4.cu\n"
          ]
        }
      ]
    },
    {
      "cell_type": "code",
      "source": [
        "!nvcc  hello4.cu -o hello4"
      ],
      "metadata": {
        "id": "BVNX6vbOr_iq"
      },
      "execution_count": 6,
      "outputs": []
    },
    {
      "cell_type": "code",
      "source": [
        "! ./hello4"
      ],
      "metadata": {
        "colab": {
          "base_uri": "https://localhost:8080/"
        },
        "id": "9cHcqlDesHv6",
        "outputId": "5e564c60-64fc-4843-cd43-7a0c29bca433"
      },
      "execution_count": 7,
      "outputs": [
        {
          "output_type": "stream",
          "name": "stdout",
          "text": [
            "nvcc: hello world!\n",
            "gpu: hello world! block(0) -- thread(0)\n",
            "gpu: hello world! block(0) -- thread(1)\n",
            "gpu: hello world! block(0) -- thread(2)\n",
            "gpu: hello world! block(0) -- thread(3)\n",
            "gpu: hello world! block(1) -- thread(0)\n",
            "gpu: hello world! block(1) -- thread(1)\n",
            "gpu: hello world! block(1) -- thread(2)\n",
            "gpu: hello world! block(1) -- thread(3)\n"
          ]
        }
      ]
    }
  ]
}